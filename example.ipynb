{
 "cells": [
  {
   "cell_type": "code",
   "execution_count": 1,
   "metadata": {},
   "outputs": [],
   "source": [
    "%%capture\n",
    "%pip install transformers\n",
    "%pip install accelerate"
   ]
  },
  {
   "cell_type": "code",
   "execution_count": 2,
   "metadata": {},
   "outputs": [
    {
     "name": "stderr",
     "output_type": "stream",
     "text": [
      "/Users/ryan/Dev/SemanticCipher/lib/python3.10/site-packages/tqdm/auto.py:21: TqdmWarning: IProgress not found. Please update jupyter and ipywidgets. See https://ipywidgets.readthedocs.io/en/stable/user_install.html\n",
      "  from .autonotebook import tqdm as notebook_tqdm\n"
     ]
    }
   ],
   "source": [
    "import os\n",
    "from semantic_cipher import SemanticCipher\n",
    "\n",
    "# Only needed if models are downloaded from huggingface\n",
    "os.environ['HF_TOKEN'] = '<hugging_face_token>'"
   ]
  },
  {
   "cell_type": "markdown",
   "metadata": {},
   "source": [
    "### Encode using OpenAI GPT-4o"
   ]
  },
  {
   "cell_type": "markdown",
   "metadata": {},
   "source": [
    "To use OpenAI models, simply add your OpenAI API key to the `.env` file.\n",
    "\n",
    "The `encrypt` method requires one parameter, `plaintext`, which is the textual data that is to be semantically enciphered.\n",
    "\n",
    "Two optional parameters can be used:\n",
    "\n",
    "* The `context` param notifies the LLM that the generated output should be relevant to the given topic.\n",
    "* The `key` param shuffles the hex mapping so that the end user must know the key in order for the text to be decrypted.\n",
    "\n",
    "There are `16!` total permutations, given that the encoding list contains all hexadecimal characters."
   ]
  },
  {
   "cell_type": "code",
   "execution_count": 7,
   "metadata": {},
   "outputs": [
    {
     "name": "stderr",
     "output_type": "stream",
     "text": [
      "2024-11-16 17:56:06,691 - INFO - HTTP Request: POST https://api.openai.com/v1/chat/completions \"HTTP/1.1 200 OK\"\n",
      "2024-11-16 17:56:07,409 - INFO - HTTP Request: POST https://api.openai.com/v1/chat/completions \"HTTP/1.1 200 OK\"\n"
     ]
    },
    {
     "name": "stdout",
     "output_type": "stream",
     "text": [
      "Ciphertext: Lunar expeditions demand fuel, as weighty astronauts carry advanced utilities. Astronauts walk across the alien crater as cosmic adventures await\n",
      "Plaintext: 0xdeadbeef\n"
     ]
    }
   ],
   "source": [
    "sc = SemanticCipher(model_name=\"gpt-4o\", key=\"xyz\")\n",
    "\n",
    "ciphertext = sc.encrypt(plaintext=\"0xdeadbeef\", context=\"Space\")\n",
    "print(f\"Ciphertext: {ciphertext}\")\n",
    "\n",
    "plaintext = sc.decrypt(ciphertext)\n",
    "print(f\"Plaintext: {plaintext}\")"
   ]
  },
  {
   "cell_type": "markdown",
   "metadata": {},
   "source": [
    "### Encode using pretrained SLM"
   ]
  },
  {
   "cell_type": "markdown",
   "metadata": {},
   "source": [
    "**Note** Using SLMs typically output text that is nonsensical. Next token prediction is strictly used and does not leverage the reasoning capabilities of larger models to formulate outputs.  Added as an experiment and as a template for future experiments."
   ]
  },
  {
   "cell_type": "code",
   "execution_count": 4,
   "metadata": {},
   "outputs": [
    {
     "name": "stdout",
     "output_type": "stream",
     "text": [
      "Ciphertext: Lily E. Duffin F. A. W. A. C. A. U. A. W. A. T. A. C. A. C. A. A.\n",
      "Plaintext: 0xdeadbeef\n"
     ]
    }
   ],
   "source": [
    "sc = SemanticCipher(model_name=\"Qwen/Qwen2.5-1.5B-Instruct\", from_pretrained=True, key=\"xyz\")\n",
    "\n",
    "ciphertext = sc.encrypt(\"0xdeadbeef\")\n",
    "print(f\"Ciphertext: {ciphertext}\")\n",
    "\n",
    "plaintext = sc.decrypt(ciphertext)\n",
    "print(f\"Plaintext: {plaintext}\")"
   ]
  }
 ],
 "metadata": {
  "kernelspec": {
   "display_name": "SemanticCipher",
   "language": "python",
   "name": "python3"
  },
  "language_info": {
   "codemirror_mode": {
    "name": "ipython",
    "version": 3
   },
   "file_extension": ".py",
   "mimetype": "text/x-python",
   "name": "python",
   "nbconvert_exporter": "python",
   "pygments_lexer": "ipython3",
   "version": "3.10.15"
  }
 },
 "nbformat": 4,
 "nbformat_minor": 2
}
